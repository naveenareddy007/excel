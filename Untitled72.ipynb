{
 "cells": [
  {
   "cell_type": "code",
   "execution_count": null,
   "id": "a686444f",
   "metadata": {},
   "outputs": [],
   "source": [
    "import pandas as pd\n",
    "\n",
    "# Assuming you have a DataFrame named 'df' with the 'ship_mode', 'sales', and 'profit' columns\n",
    "# Create a function to calculate the surcharge based on the 'ship_mode'\n",
    "def calculate_surcharge(ship_mode):\n",
    "    if ship_mode == \"same Day\":\n",
    "        return 0.2\n",
    "    elif ship_mode == \"first class\":\n",
    "        return 0.1\n",
    "    elif ship_mode == \"standard class\":\n",
    "        return 0.05\n",
    "    else:\n",
    "        return 0\n",
    "\n",
    "# Create the new 'Surcharge' column\n",
    "df['Surcharge'] = df['ship_mode'].apply(calculate_surcharge)\n",
    "\n",
    "# Calculate the 'Total cost' using the formula you provided\n",
    "df['Total cost'] = (df['sales'] - df['profit']) * (1 + df['Surcharge'])\n",
    "\n",
    "# Save the DataFrame with the new columns\n",
    "df.to_csv('updated_dataset.csv', index=False)\n",
    "\n"
   ]
  }
 ],
 "metadata": {
  "kernelspec": {
   "display_name": "Python 3 (ipykernel)",
   "language": "python",
   "name": "python3"
  },
  "language_info": {
   "codemirror_mode": {
    "name": "ipython",
    "version": 3
   },
   "file_extension": ".py",
   "mimetype": "text/x-python",
   "name": "python",
   "nbconvert_exporter": "python",
   "pygments_lexer": "ipython3",
   "version": "3.10.9"
  }
 },
 "nbformat": 4,
 "nbformat_minor": 5
}
